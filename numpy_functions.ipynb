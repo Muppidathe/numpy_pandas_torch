{
  "nbformat": 4,
  "nbformat_minor": 0,
  "metadata": {
    "colab": {
      "provenance": [],
      "authorship_tag": "ABX9TyObqIF1RXgrZsweldwZ9xT9",
      "include_colab_link": true
    },
    "kernelspec": {
      "name": "python3",
      "display_name": "Python 3"
    },
    "language_info": {
      "name": "python"
    }
  },
  "cells": [
    {
      "cell_type": "markdown",
      "metadata": {
        "id": "view-in-github",
        "colab_type": "text"
      },
      "source": [
        "<a href=\"https://colab.research.google.com/github/Muppidathe/numpy_pandas_torch/blob/main/numpy_functions.ipynb\" target=\"_parent\"><img src=\"https://colab.research.google.com/assets/colab-badge.svg\" alt=\"Open In Colab\"/></a>"
      ]
    },
    {
      "cell_type": "code",
      "execution_count": 1,
      "metadata": {
        "id": "7EaUgyeF6nzY"
      },
      "outputs": [],
      "source": [
        "import numpy as np"
      ]
    },
    {
      "cell_type": "code",
      "source": [
        "a=np.array([1,2,3])\n",
        "a+1"
      ],
      "metadata": {
        "colab": {
          "base_uri": "https://localhost:8080/"
        },
        "id": "T1b7KCNp6p3x",
        "outputId": "d51e0f80-8c90-40fd-b505-19f4a8d90631"
      },
      "execution_count": 2,
      "outputs": [
        {
          "output_type": "execute_result",
          "data": {
            "text/plain": [
              "array([2, 3, 4])"
            ]
          },
          "metadata": {},
          "execution_count": 2
        }
      ]
    },
    {
      "cell_type": "code",
      "source": [
        "b=np.full(shape=(3),fill_value=2)\n",
        "a+b"
      ],
      "metadata": {
        "colab": {
          "base_uri": "https://localhost:8080/"
        },
        "id": "AuVJs_YM6uoS",
        "outputId": "475243ad-c97e-499a-ef9f-661574cfa4fa"
      },
      "execution_count": 4,
      "outputs": [
        {
          "output_type": "execute_result",
          "data": {
            "text/plain": [
              "array([3, 4, 5])"
            ]
          },
          "metadata": {},
          "execution_count": 4
        }
      ]
    },
    {
      "cell_type": "code",
      "source": [
        "c=np.array([[[1,2,3],\n",
        "             [4,5,6],\n",
        "             [7,8,9]],\n",
        "             [[10,11,12],\n",
        "              [13,14,15],\n",
        "               [16,17,18]]])\n",
        "c.shape"
      ],
      "metadata": {
        "colab": {
          "base_uri": "https://localhost:8080/"
        },
        "id": "hLXlPOBW7eWy",
        "outputId": "bca4b737-1b45-4f6e-d1ff-1ee1e777c480"
      },
      "execution_count": 14,
      "outputs": [
        {
          "output_type": "execute_result",
          "data": {
            "text/plain": [
              "(2, 3, 3)"
            ]
          },
          "metadata": {},
          "execution_count": 14
        }
      ]
    },
    {
      "cell_type": "markdown",
      "source": [
        "## sum()"
      ],
      "metadata": {
        "id": "7kyyudfhP95V"
      }
    },
    {
      "cell_type": "code",
      "source": [
        "c.sum(axis=2)"
      ],
      "metadata": {
        "colab": {
          "base_uri": "https://localhost:8080/"
        },
        "id": "ibQBEW8D89rV",
        "outputId": "072a1548-acc4-40a9-f4f1-84f0e3497e0a"
      },
      "execution_count": 17,
      "outputs": [
        {
          "output_type": "execute_result",
          "data": {
            "text/plain": [
              "array([[ 6, 15, 24],\n",
              "       [33, 42, 51]])"
            ]
          },
          "metadata": {},
          "execution_count": 17
        }
      ]
    },
    {
      "cell_type": "markdown",
      "source": [
        "## min()"
      ],
      "metadata": {
        "id": "Sfjp7ld8QBd2"
      }
    },
    {
      "cell_type": "code",
      "source": [
        "c.min(axis=0)"
      ],
      "metadata": {
        "colab": {
          "base_uri": "https://localhost:8080/"
        },
        "id": "CBW98H2D98Du",
        "outputId": "3d5ecab3-06b0-43f7-ba5f-4dc0cf58cef2"
      },
      "execution_count": 18,
      "outputs": [
        {
          "output_type": "execute_result",
          "data": {
            "text/plain": [
              "array([[1, 2, 3],\n",
              "       [4, 5, 6],\n",
              "       [7, 8, 9]])"
            ]
          },
          "metadata": {},
          "execution_count": 18
        }
      ]
    },
    {
      "cell_type": "markdown",
      "source": [
        "## max()"
      ],
      "metadata": {
        "id": "qRCNJO2eQDLt"
      }
    },
    {
      "cell_type": "code",
      "source": [
        "c.max(axis=1)"
      ],
      "metadata": {
        "colab": {
          "base_uri": "https://localhost:8080/"
        },
        "id": "8KhfYkxP-sxN",
        "outputId": "99035558-4805-47eb-c636-232b379667ed"
      },
      "execution_count": 19,
      "outputs": [
        {
          "output_type": "execute_result",
          "data": {
            "text/plain": [
              "array([[ 7,  8,  9],\n",
              "       [16, 17, 18]])"
            ]
          },
          "metadata": {},
          "execution_count": 19
        }
      ]
    },
    {
      "cell_type": "markdown",
      "source": [
        "#add()"
      ],
      "metadata": {
        "id": "6JW29H-tQGoO"
      }
    },
    {
      "cell_type": "code",
      "source": [
        "np.add(a,b)"
      ],
      "metadata": {
        "colab": {
          "base_uri": "https://localhost:8080/"
        },
        "id": "G3tYiBujIvR_",
        "outputId": "69602f52-be36-4ab9-e2ca-0a5d11f7f77b"
      },
      "execution_count": 20,
      "outputs": [
        {
          "output_type": "execute_result",
          "data": {
            "text/plain": [
              "array([3, 4, 5])"
            ]
          },
          "metadata": {},
          "execution_count": 20
        }
      ]
    },
    {
      "cell_type": "markdown",
      "source": [
        "## subract()"
      ],
      "metadata": {
        "id": "wxd_HXTKQIUl"
      }
    },
    {
      "cell_type": "code",
      "source": [
        "np.subtract(a,b)"
      ],
      "metadata": {
        "colab": {
          "base_uri": "https://localhost:8080/"
        },
        "id": "QwAffSu1I0jG",
        "outputId": "edaee6d8-81b3-4376-d90d-277b0c78171a"
      },
      "execution_count": 21,
      "outputs": [
        {
          "output_type": "execute_result",
          "data": {
            "text/plain": [
              "array([-1,  0,  1])"
            ]
          },
          "metadata": {},
          "execution_count": 21
        }
      ]
    },
    {
      "cell_type": "markdown",
      "source": [
        "## multiply()"
      ],
      "metadata": {
        "id": "xdhSn0izQKwQ"
      }
    },
    {
      "cell_type": "code",
      "source": [
        "np.multiply(a,b)"
      ],
      "metadata": {
        "colab": {
          "base_uri": "https://localhost:8080/"
        },
        "id": "51ztJ1v3I3Tp",
        "outputId": "748c32ea-b7c9-427c-8712-3cfd47c9222a"
      },
      "execution_count": 22,
      "outputs": [
        {
          "output_type": "execute_result",
          "data": {
            "text/plain": [
              "array([2, 4, 6])"
            ]
          },
          "metadata": {},
          "execution_count": 22
        }
      ]
    },
    {
      "cell_type": "markdown",
      "source": [
        "## divide()"
      ],
      "metadata": {
        "id": "YaCJXRvmQNMI"
      }
    },
    {
      "cell_type": "code",
      "source": [
        "np.divide(a,b)"
      ],
      "metadata": {
        "colab": {
          "base_uri": "https://localhost:8080/"
        },
        "id": "Vz92lKqYI7V8",
        "outputId": "c2b9b143-94a5-407c-dd89-496911ab4761"
      },
      "execution_count": 23,
      "outputs": [
        {
          "output_type": "execute_result",
          "data": {
            "text/plain": [
              "array([0.5, 1. , 1.5])"
            ]
          },
          "metadata": {},
          "execution_count": 23
        }
      ]
    },
    {
      "cell_type": "markdown",
      "source": [
        "# remainder()"
      ],
      "metadata": {
        "id": "VdGbQSxsQTEX"
      }
    },
    {
      "cell_type": "code",
      "source": [
        "np.remainder(a,b)"
      ],
      "metadata": {
        "colab": {
          "base_uri": "https://localhost:8080/"
        },
        "id": "AFxJ52iSI9QJ",
        "outputId": "70f8d1ad-2cad-48ef-ba9c-286b3cc7b274"
      },
      "execution_count": 25,
      "outputs": [
        {
          "output_type": "execute_result",
          "data": {
            "text/plain": [
              "array([1, 0, 1])"
            ]
          },
          "metadata": {},
          "execution_count": 25
        }
      ]
    },
    {
      "cell_type": "markdown",
      "source": [
        "#matrix multiply()"
      ],
      "metadata": {
        "id": "Ty-AkVHVQVU4"
      }
    },
    {
      "cell_type": "code",
      "source": [
        "np.matmul(a,b)"
      ],
      "metadata": {
        "colab": {
          "base_uri": "https://localhost:8080/"
        },
        "id": "PH69WQzHJATi",
        "outputId": "a64b8ad3-312c-47a6-94e2-22016419974a"
      },
      "execution_count": 27,
      "outputs": [
        {
          "output_type": "execute_result",
          "data": {
            "text/plain": [
              "12"
            ]
          },
          "metadata": {},
          "execution_count": 27
        }
      ]
    },
    {
      "cell_type": "markdown",
      "source": [
        "## dot product"
      ],
      "metadata": {
        "id": "nyGq8f7eQYbs"
      }
    },
    {
      "cell_type": "code",
      "source": [
        "np.dot(a,b)"
      ],
      "metadata": {
        "colab": {
          "base_uri": "https://localhost:8080/"
        },
        "id": "OEz188dBJCbc",
        "outputId": "a4481acb-59c3-4f8e-8a55-e8b7dc477677"
      },
      "execution_count": 28,
      "outputs": [
        {
          "output_type": "execute_result",
          "data": {
            "text/plain": [
              "12"
            ]
          },
          "metadata": {},
          "execution_count": 28
        }
      ]
    },
    {
      "cell_type": "markdown",
      "source": [
        "## square root\n"
      ],
      "metadata": {
        "id": "gdbE8yPtQchh"
      }
    },
    {
      "cell_type": "code",
      "source": [
        "np.sqrt(a)"
      ],
      "metadata": {
        "colab": {
          "base_uri": "https://localhost:8080/"
        },
        "id": "2iVWEKxKJH9P",
        "outputId": "79dbcb2b-d034-45fb-f733-7977491631bb"
      },
      "execution_count": 29,
      "outputs": [
        {
          "output_type": "execute_result",
          "data": {
            "text/plain": [
              "array([1.        , 1.41421356, 1.73205081])"
            ]
          },
          "metadata": {},
          "execution_count": 29
        }
      ]
    },
    {
      "cell_type": "markdown",
      "source": [
        "#cube root\n"
      ],
      "metadata": {
        "id": "dMAn_lzlQf6C"
      }
    },
    {
      "cell_type": "code",
      "source": [
        "np.cbrt(a)"
      ],
      "metadata": {
        "colab": {
          "base_uri": "https://localhost:8080/"
        },
        "id": "JrVY97vxJLBn",
        "outputId": "537de6fc-9195-4268-ed98-0ad237686d1d"
      },
      "execution_count": 31,
      "outputs": [
        {
          "output_type": "execute_result",
          "data": {
            "text/plain": [
              "array([1.        , 1.25992105, 1.44224957])"
            ]
          },
          "metadata": {},
          "execution_count": 31
        }
      ]
    },
    {
      "cell_type": "markdown",
      "source": [
        "#logarithm"
      ],
      "metadata": {
        "id": "_rLTKtUKQjj2"
      }
    },
    {
      "cell_type": "code",
      "source": [
        "np.log2(a)"
      ],
      "metadata": {
        "colab": {
          "base_uri": "https://localhost:8080/"
        },
        "id": "4D0AqcH-JOew",
        "outputId": "e5aa17c9-f096-44d9-d2cd-20a4c8b99e47"
      },
      "execution_count": 36,
      "outputs": [
        {
          "output_type": "execute_result",
          "data": {
            "text/plain": [
              "array([0.       , 1.       , 1.5849625])"
            ]
          },
          "metadata": {},
          "execution_count": 36
        }
      ]
    },
    {
      "cell_type": "code",
      "source": [
        "np.log10(a)"
      ],
      "metadata": {
        "colab": {
          "base_uri": "https://localhost:8080/"
        },
        "id": "A05rrruXJfnF",
        "outputId": "18e55bf2-41f4-43db-c414-517ce1f65020"
      },
      "execution_count": 42,
      "outputs": [
        {
          "output_type": "execute_result",
          "data": {
            "text/plain": [
              "array([0.        , 0.30103   , 0.47712125])"
            ]
          },
          "metadata": {},
          "execution_count": 42
        }
      ]
    },
    {
      "cell_type": "code",
      "source": [
        "np.log(a)"
      ],
      "metadata": {
        "colab": {
          "base_uri": "https://localhost:8080/"
        },
        "id": "kGdmyyY8KvYx",
        "outputId": "3b64180b-f8be-4a4c-f705-67d89794f3ff"
      },
      "execution_count": 43,
      "outputs": [
        {
          "output_type": "execute_result",
          "data": {
            "text/plain": [
              "array([0.        , 0.69314718, 1.09861229])"
            ]
          },
          "metadata": {},
          "execution_count": 43
        }
      ]
    },
    {
      "cell_type": "markdown",
      "source": [
        "#exponential/power"
      ],
      "metadata": {
        "id": "oUzS9xP1Qnbk"
      }
    },
    {
      "cell_type": "code",
      "source": [
        "power_value_for_2=np.log2(a)\n",
        "np.exp2(power_value_for_2)"
      ],
      "metadata": {
        "colab": {
          "base_uri": "https://localhost:8080/"
        },
        "id": "Mi440MoxJek7",
        "outputId": "90b9b696-7fe6-4376-a63b-d7f5ae9a3ef7"
      },
      "execution_count": 44,
      "outputs": [
        {
          "output_type": "execute_result",
          "data": {
            "text/plain": [
              "array([1., 2., 3.])"
            ]
          },
          "metadata": {},
          "execution_count": 44
        }
      ]
    },
    {
      "cell_type": "code",
      "source": [
        "power_value_for_10=np.log10(a)\n",
        "np.power(10,power_value_for_10)"
      ],
      "metadata": {
        "colab": {
          "base_uri": "https://localhost:8080/"
        },
        "id": "_N9un0IrKyuc",
        "outputId": "6e146335-f142-476a-9af6-0a311020616e"
      },
      "execution_count": 49,
      "outputs": [
        {
          "output_type": "execute_result",
          "data": {
            "text/plain": [
              "array([1., 2., 3.])"
            ]
          },
          "metadata": {},
          "execution_count": 49
        }
      ]
    },
    {
      "cell_type": "code",
      "source": [
        "power_value_for_e=np.log(a)\n",
        "np.exp(power_value_for_e)"
      ],
      "metadata": {
        "colab": {
          "base_uri": "https://localhost:8080/"
        },
        "id": "sHenVH3HKX-B",
        "outputId": "ffb5813f-60ad-4c5f-a673-5a2b446758ed"
      },
      "execution_count": 47,
      "outputs": [
        {
          "output_type": "execute_result",
          "data": {
            "text/plain": [
              "array([1., 2., 3.])"
            ]
          },
          "metadata": {},
          "execution_count": 47
        }
      ]
    },
    {
      "cell_type": "markdown",
      "source": [
        "# ***Statistics***"
      ],
      "metadata": {
        "id": "VkDbpUUDQv3L"
      }
    },
    {
      "cell_type": "markdown",
      "source": [
        "##mean()"
      ],
      "metadata": {
        "id": "fLh-79gzQ1Sh"
      }
    },
    {
      "cell_type": "code",
      "source": [
        "print(c)\n",
        "np.mean(c,axis=1)"
      ],
      "metadata": {
        "colab": {
          "base_uri": "https://localhost:8080/"
        },
        "id": "OsUT4C0zOIRe",
        "outputId": "64c48ea7-7898-4600-f49a-7f5f81be01b6"
      },
      "execution_count": 51,
      "outputs": [
        {
          "output_type": "stream",
          "name": "stdout",
          "text": [
            "[[[ 1  2  3]\n",
            "  [ 4  5  6]\n",
            "  [ 7  8  9]]\n",
            "\n",
            " [[10 11 12]\n",
            "  [13 14 15]\n",
            "  [16 17 18]]]\n"
          ]
        },
        {
          "output_type": "execute_result",
          "data": {
            "text/plain": [
              "array([[ 4.,  5.,  6.],\n",
              "       [13., 14., 15.]])"
            ]
          },
          "metadata": {},
          "execution_count": 51
        }
      ]
    },
    {
      "cell_type": "markdown",
      "source": [
        "##median()"
      ],
      "metadata": {
        "id": "Fn5zZcB6Q34T"
      }
    },
    {
      "cell_type": "code",
      "source": [
        "np.median(c,axis=1)"
      ],
      "metadata": {
        "colab": {
          "base_uri": "https://localhost:8080/"
        },
        "id": "SeyfEIBiONd9",
        "outputId": "7796524a-ccf2-44e2-bac3-151d43c30fe7"
      },
      "execution_count": 52,
      "outputs": [
        {
          "output_type": "execute_result",
          "data": {
            "text/plain": [
              "array([[ 4.,  5.,  6.],\n",
              "       [13., 14., 15.]])"
            ]
          },
          "metadata": {},
          "execution_count": 52
        }
      ]
    },
    {
      "cell_type": "markdown",
      "source": [
        "## standard deviation"
      ],
      "metadata": {
        "id": "qf0Cey0PQ6jm"
      }
    },
    {
      "cell_type": "code",
      "source": [
        "np.std(c,axis=1)"
      ],
      "metadata": {
        "colab": {
          "base_uri": "https://localhost:8080/"
        },
        "id": "Blnhfuc8OXm-",
        "outputId": "a56df9ce-46bf-450b-c4c9-e001b6ba5ec1"
      },
      "execution_count": 54,
      "outputs": [
        {
          "output_type": "execute_result",
          "data": {
            "text/plain": [
              "array([[2.44948974, 2.44948974, 2.44948974],\n",
              "       [2.44948974, 2.44948974, 2.44948974]])"
            ]
          },
          "metadata": {},
          "execution_count": 54
        }
      ]
    },
    {
      "cell_type": "markdown",
      "source": [
        "## percentile()"
      ],
      "metadata": {
        "id": "SLNO_NZpQ9_a"
      }
    },
    {
      "cell_type": "code",
      "source": [
        "np.percentile(c,axis=1,q=50)"
      ],
      "metadata": {
        "colab": {
          "base_uri": "https://localhost:8080/"
        },
        "id": "qGaMw2n6OgFB",
        "outputId": "069ed862-d52b-43f6-8f85-952633cf54e6"
      },
      "execution_count": 61,
      "outputs": [
        {
          "output_type": "execute_result",
          "data": {
            "text/plain": [
              "array([[ 4.,  5.,  6.],\n",
              "       [13., 14., 15.]])"
            ]
          },
          "metadata": {},
          "execution_count": 61
        }
      ]
    }
  ]
}