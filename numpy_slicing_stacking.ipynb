{
  "nbformat": 4,
  "nbformat_minor": 0,
  "metadata": {
    "colab": {
      "provenance": [],
      "authorship_tag": "ABX9TyOgnwCyz70yF66sKg+dNMg4",
      "include_colab_link": true
    },
    "kernelspec": {
      "name": "python3",
      "display_name": "Python 3"
    },
    "language_info": {
      "name": "python"
    }
  },
  "cells": [
    {
      "cell_type": "markdown",
      "metadata": {
        "id": "view-in-github",
        "colab_type": "text"
      },
      "source": [
        "<a href=\"https://colab.research.google.com/github/Muppidathe/numpy_pandas_torch/blob/main/numpy_slicing_stacking.ipynb\" target=\"_parent\"><img src=\"https://colab.research.google.com/assets/colab-badge.svg\" alt=\"Open In Colab\"/></a>"
      ]
    },
    {
      "cell_type": "code",
      "execution_count": 1,
      "metadata": {
        "id": "4c0rZuwitApu"
      },
      "outputs": [],
      "source": [
        "import numpy as np"
      ]
    },
    {
      "cell_type": "code",
      "source": [
        "three_d=np.random.randint(0,101,size=(3,3))\n",
        "three_d"
      ],
      "metadata": {
        "colab": {
          "base_uri": "https://localhost:8080/"
        },
        "id": "AgDxKFoVtD9_",
        "outputId": "93e6b378-1ed7-4ee5-a88f-2989fe558087"
      },
      "execution_count": 2,
      "outputs": [
        {
          "output_type": "execute_result",
          "data": {
            "text/plain": [
              "array([[91, 84, 11],\n",
              "       [89, 18, 91],\n",
              "       [41, 31, 26]])"
            ]
          },
          "metadata": {},
          "execution_count": 2
        }
      ]
    },
    {
      "cell_type": "markdown",
      "source": [
        "# ***Indexing***"
      ],
      "metadata": {
        "id": "HlTbMWkDtZfg"
      }
    },
    {
      "cell_type": "code",
      "source": [
        "three_d[0][0]"
      ],
      "metadata": {
        "colab": {
          "base_uri": "https://localhost:8080/"
        },
        "id": "7q98zmUZtPef",
        "outputId": "db277092-235f-4d89-d2bb-d6cd10dba228"
      },
      "execution_count": 3,
      "outputs": [
        {
          "output_type": "execute_result",
          "data": {
            "text/plain": [
              "91"
            ]
          },
          "metadata": {},
          "execution_count": 3
        }
      ]
    },
    {
      "cell_type": "code",
      "source": [
        "three_d[0,0]"
      ],
      "metadata": {
        "colab": {
          "base_uri": "https://localhost:8080/"
        },
        "id": "iHLtIneitPRI",
        "outputId": "69754b4b-466f-42f3-be44-81a2a0370f32"
      },
      "execution_count": 4,
      "outputs": [
        {
          "output_type": "execute_result",
          "data": {
            "text/plain": [
              "91"
            ]
          },
          "metadata": {},
          "execution_count": 4
        }
      ]
    },
    {
      "cell_type": "code",
      "source": [
        "three_d.item(0,1)"
      ],
      "metadata": {
        "colab": {
          "base_uri": "https://localhost:8080/"
        },
        "id": "4FnaWwqWuesh",
        "outputId": "a6de9c37-3282-4570-fb15-e53e91704446"
      },
      "execution_count": 5,
      "outputs": [
        {
          "output_type": "execute_result",
          "data": {
            "text/plain": [
              "84"
            ]
          },
          "metadata": {},
          "execution_count": 5
        }
      ]
    },
    {
      "cell_type": "code",
      "source": [
        "np.take(three_d,[1,2,6])"
      ],
      "metadata": {
        "colab": {
          "base_uri": "https://localhost:8080/"
        },
        "id": "646rEGE4uoRa",
        "outputId": "ea4124eb-e019-4e04-f8ec-e6eae7269c78"
      },
      "execution_count": 6,
      "outputs": [
        {
          "output_type": "execute_result",
          "data": {
            "text/plain": [
              "array([84, 11, 41])"
            ]
          },
          "metadata": {},
          "execution_count": 6
        }
      ]
    },
    {
      "cell_type": "markdown",
      "source": [
        "# ***Slicing***"
      ],
      "metadata": {
        "id": "Nz1IooikuLeX"
      }
    },
    {
      "cell_type": "code",
      "source": [
        "#first row\n",
        "#three_d[row,column]\n",
        "three_d[0,0:3]"
      ],
      "metadata": {
        "colab": {
          "base_uri": "https://localhost:8080/"
        },
        "id": "UvS4zDjnuGrK",
        "outputId": "89eaac15-140a-482e-8886-5551df85641c"
      },
      "execution_count": 7,
      "outputs": [
        {
          "output_type": "execute_result",
          "data": {
            "text/plain": [
              "array([91, 84, 11])"
            ]
          },
          "metadata": {},
          "execution_count": 7
        }
      ]
    },
    {
      "cell_type": "code",
      "source": [
        "#first column\n",
        "three_d[0:3,0]"
      ],
      "metadata": {
        "colab": {
          "base_uri": "https://localhost:8080/"
        },
        "id": "8goz-B9ztfBR",
        "outputId": "6122f9d1-e929-41fc-8905-d9443223834b"
      },
      "execution_count": 8,
      "outputs": [
        {
          "output_type": "execute_result",
          "data": {
            "text/plain": [
              "array([91, 89, 41])"
            ]
          },
          "metadata": {},
          "execution_count": 8
        }
      ]
    },
    {
      "cell_type": "markdown",
      "source": [
        "# array filtering"
      ],
      "metadata": {
        "id": "00dUst8wvzSO"
      }
    },
    {
      "cell_type": "code",
      "source": [
        "three_d[(three_d%2==0) & (three_d>6)]"
      ],
      "metadata": {
        "colab": {
          "base_uri": "https://localhost:8080/"
        },
        "id": "caqIfFblvUg7",
        "outputId": "7810b4c1-95a8-4d4a-caed-7a230bb7af70"
      },
      "execution_count": 9,
      "outputs": [
        {
          "output_type": "execute_result",
          "data": {
            "text/plain": [
              "array([84, 18, 26])"
            ]
          },
          "metadata": {},
          "execution_count": 9
        }
      ]
    },
    {
      "cell_type": "code",
      "source": [
        "#return index\n",
        "np.where(three_d%2==0)"
      ],
      "metadata": {
        "id": "5QTHy_eAPZgG",
        "outputId": "86ebbbf2-3e0a-469e-c425-70e15d5e1fa8",
        "colab": {
          "base_uri": "https://localhost:8080/"
        }
      },
      "execution_count": 10,
      "outputs": [
        {
          "output_type": "execute_result",
          "data": {
            "text/plain": [
              "(array([0, 1, 2]), array([1, 1, 2]))"
            ]
          },
          "metadata": {},
          "execution_count": 10
        }
      ]
    },
    {
      "cell_type": "markdown",
      "source": [
        "# ***Array Reshaping***"
      ],
      "metadata": {
        "id": "RAYZVn6nv4zq"
      }
    },
    {
      "cell_type": "code",
      "source": [
        "a=np.arange(1,10)\n",
        "print(\"before reshaping \",a)\n",
        "a=a.reshape(3,3)\n",
        "print(\"After reshaping \",a)"
      ],
      "metadata": {
        "colab": {
          "base_uri": "https://localhost:8080/"
        },
        "id": "3mv8dvgUvivv",
        "outputId": "df98e032-41c1-4e44-ab42-749da8572ccd"
      },
      "execution_count": 11,
      "outputs": [
        {
          "output_type": "stream",
          "name": "stdout",
          "text": [
            "before reshaping  [1 2 3 4 5 6 7 8 9]\n",
            "After reshaping  [[1 2 3]\n",
            " [4 5 6]\n",
            " [7 8 9]]\n"
          ]
        }
      ]
    },
    {
      "cell_type": "code",
      "source": [
        "a.flatten()"
      ],
      "metadata": {
        "colab": {
          "base_uri": "https://localhost:8080/"
        },
        "id": "3y_PdmjfzRky",
        "outputId": "4980991f-ce57-4a4e-af15-6d2e9e8af18b"
      },
      "execution_count": 12,
      "outputs": [
        {
          "output_type": "execute_result",
          "data": {
            "text/plain": [
              "array([1, 2, 3, 4, 5, 6, 7, 8, 9])"
            ]
          },
          "metadata": {},
          "execution_count": 12
        }
      ]
    },
    {
      "cell_type": "markdown",
      "source": [
        "# transpose"
      ],
      "metadata": {
        "id": "RKLJKrC9w7MH"
      }
    },
    {
      "cell_type": "code",
      "source": [
        "a.T\n",
        "a.transpose()"
      ],
      "metadata": {
        "colab": {
          "base_uri": "https://localhost:8080/"
        },
        "id": "KUeUz7O6wzTY",
        "outputId": "3cb45be8-75e0-4154-b269-84c32500c6bc"
      },
      "execution_count": 13,
      "outputs": [
        {
          "output_type": "execute_result",
          "data": {
            "text/plain": [
              "array([[1, 4, 7],\n",
              "       [2, 5, 8],\n",
              "       [3, 6, 9]])"
            ]
          },
          "metadata": {},
          "execution_count": 13
        }
      ]
    },
    {
      "cell_type": "code",
      "source": [
        "a.swapaxes(0,1)"
      ],
      "metadata": {
        "colab": {
          "base_uri": "https://localhost:8080/"
        },
        "id": "I6QvSMWBxPwi",
        "outputId": "9e94f43c-30a2-4059-f0f8-5273450e4e1b"
      },
      "execution_count": 14,
      "outputs": [
        {
          "output_type": "execute_result",
          "data": {
            "text/plain": [
              "array([[1, 4, 7],\n",
              "       [2, 5, 8],\n",
              "       [3, 6, 9]])"
            ]
          },
          "metadata": {},
          "execution_count": 14
        }
      ]
    },
    {
      "cell_type": "markdown",
      "source": [
        "# ***Sorting***\n",
        "\n",
        "*   axis=0 → Across multiple 2D arrays\n",
        "*   axis=1 → Across rows within each 2D array\n",
        "*   axis=2 → Across columns within each 2D array\n",
        "\n"
      ],
      "metadata": {
        "id": "qrIVZqqXy8mb"
      }
    },
    {
      "cell_type": "code",
      "source": [
        "print(\"before sorting \\n\",three_d)\n",
        "print()\n",
        "three_d.sort(axis=0)\n",
        "three_d"
      ],
      "metadata": {
        "colab": {
          "base_uri": "https://localhost:8080/"
        },
        "id": "spsGObcaxesS",
        "outputId": "ccf35bc9-84b1-407e-fd0d-d25c6fbd714e"
      },
      "execution_count": 15,
      "outputs": [
        {
          "output_type": "stream",
          "name": "stdout",
          "text": [
            "before sorting \n",
            " [[91 84 11]\n",
            " [89 18 91]\n",
            " [41 31 26]]\n",
            "\n"
          ]
        },
        {
          "output_type": "execute_result",
          "data": {
            "text/plain": [
              "array([[41, 18, 11],\n",
              "       [89, 31, 26],\n",
              "       [91, 84, 91]])"
            ]
          },
          "metadata": {},
          "execution_count": 15
        }
      ]
    },
    {
      "cell_type": "markdown",
      "source": [
        "# ***Stacking***"
      ],
      "metadata": {
        "id": "sbY6rULE6Pej"
      }
    },
    {
      "cell_type": "code",
      "source": [
        "arr1=np.array([[1,2],[3,4]])\n",
        "arr2=np.array([[5,6],[7,8]])\n",
        "np.hstack((arr1,arr2))"
      ],
      "metadata": {
        "colab": {
          "base_uri": "https://localhost:8080/"
        },
        "id": "QM1KE-Uk5Xed",
        "outputId": "22674583-79d7-4439-bd8a-fb13f665c6ab"
      },
      "execution_count": 16,
      "outputs": [
        {
          "output_type": "execute_result",
          "data": {
            "text/plain": [
              "array([[1, 2, 5, 6],\n",
              "       [3, 4, 7, 8]])"
            ]
          },
          "metadata": {},
          "execution_count": 16
        }
      ]
    },
    {
      "cell_type": "code",
      "source": [
        "np.column_stack((arr1,arr2))"
      ],
      "metadata": {
        "colab": {
          "base_uri": "https://localhost:8080/"
        },
        "id": "ERXKdNGf5p2r",
        "outputId": "2f2e385c-4253-4992-b7dd-f649cd9dc363"
      },
      "execution_count": 17,
      "outputs": [
        {
          "output_type": "execute_result",
          "data": {
            "text/plain": [
              "array([[1, 2, 5, 6],\n",
              "       [3, 4, 7, 8]])"
            ]
          },
          "metadata": {},
          "execution_count": 17
        }
      ]
    },
    {
      "cell_type": "code",
      "source": [
        "np.vstack((arr1,arr2))"
      ],
      "metadata": {
        "colab": {
          "base_uri": "https://localhost:8080/"
        },
        "id": "sRIvl3u85oU5",
        "outputId": "43ffb6cf-988c-4965-c7cf-af90eb2f0d99"
      },
      "execution_count": 18,
      "outputs": [
        {
          "output_type": "execute_result",
          "data": {
            "text/plain": [
              "array([[1, 2],\n",
              "       [3, 4],\n",
              "       [5, 6],\n",
              "       [7, 8]])"
            ]
          },
          "metadata": {},
          "execution_count": 18
        }
      ]
    },
    {
      "cell_type": "code",
      "source": [
        "np.row_stack((arr1,arr2))"
      ],
      "metadata": {
        "colab": {
          "base_uri": "https://localhost:8080/"
        },
        "id": "wDTxO4-V5t3H",
        "outputId": "00b8e7bb-63fd-4690-b7ce-a9ba52f3f82e"
      },
      "execution_count": 19,
      "outputs": [
        {
          "output_type": "execute_result",
          "data": {
            "text/plain": [
              "array([[1, 2],\n",
              "       [3, 4],\n",
              "       [5, 6],\n",
              "       [7, 8]])"
            ]
          },
          "metadata": {},
          "execution_count": 19
        }
      ]
    },
    {
      "cell_type": "code",
      "source": [
        "np.concatenate((arr1,arr2),axis=0)"
      ],
      "metadata": {
        "colab": {
          "base_uri": "https://localhost:8080/"
        },
        "id": "N9UtP1a-5xZ3",
        "outputId": "f39967e6-821e-441b-cb14-e4456d724b58"
      },
      "execution_count": 20,
      "outputs": [
        {
          "output_type": "execute_result",
          "data": {
            "text/plain": [
              "array([[1, 2],\n",
              "       [3, 4],\n",
              "       [5, 6],\n",
              "       [7, 8]])"
            ]
          },
          "metadata": {},
          "execution_count": 20
        }
      ]
    },
    {
      "cell_type": "code",
      "source": [
        "np.concatenate((arr1,arr2),axis=1)"
      ],
      "metadata": {
        "colab": {
          "base_uri": "https://localhost:8080/"
        },
        "id": "JlJVSK_c6GLp",
        "outputId": "2a5d5b9a-cac2-4dc1-a6c1-b1864dd690c1"
      },
      "execution_count": 21,
      "outputs": [
        {
          "output_type": "execute_result",
          "data": {
            "text/plain": [
              "array([[1, 2, 5, 6],\n",
              "       [3, 4, 7, 8]])"
            ]
          },
          "metadata": {},
          "execution_count": 21
        }
      ]
    }
  ]
}