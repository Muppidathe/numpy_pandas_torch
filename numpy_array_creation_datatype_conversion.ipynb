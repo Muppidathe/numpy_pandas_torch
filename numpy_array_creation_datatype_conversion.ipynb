{
  "nbformat": 4,
  "nbformat_minor": 0,
  "metadata": {
    "colab": {
      "provenance": [],
      "authorship_tag": "ABX9TyPoRS3jLQwVtB8N8uGt3NNZ",
      "include_colab_link": true
    },
    "kernelspec": {
      "name": "python3",
      "display_name": "Python 3"
    },
    "language_info": {
      "name": "python"
    }
  },
  "cells": [
    {
      "cell_type": "markdown",
      "metadata": {
        "id": "view-in-github",
        "colab_type": "text"
      },
      "source": [
        "<a href=\"https://colab.research.google.com/github/Muppidathe/numpy_pandas_torch/blob/main/numpy_array_creation_datatype_conversion.ipynb\" target=\"_parent\"><img src=\"https://colab.research.google.com/assets/colab-badge.svg\" alt=\"Open In Colab\"/></a>"
      ]
    },
    {
      "cell_type": "code",
      "execution_count": 1,
      "metadata": {
        "id": "NBIZ2wPskjwe"
      },
      "outputs": [],
      "source": [
        "import numpy as np"
      ]
    },
    {
      "cell_type": "markdown",
      "source": [
        "# <center>array creation</center>"
      ],
      "metadata": {
        "id": "f7nu81ZIlLSQ"
      }
    },
    {
      "cell_type": "code",
      "source": [
        "one_d=np.array([1,2,3])\n",
        "print(type(one_d))\n",
        "one_d"
      ],
      "metadata": {
        "colab": {
          "base_uri": "https://localhost:8080/"
        },
        "id": "QAsMdBiLkp4C",
        "outputId": "8cf0615d-4343-4700-ebd9-5f6fd62d7733"
      },
      "execution_count": 6,
      "outputs": [
        {
          "output_type": "stream",
          "name": "stdout",
          "text": [
            "<class 'numpy.ndarray'>\n"
          ]
        },
        {
          "output_type": "execute_result",
          "data": {
            "text/plain": [
              "array([1, 2, 3])"
            ]
          },
          "metadata": {},
          "execution_count": 6
        }
      ]
    },
    {
      "cell_type": "code",
      "source": [
        "two_d=np.array([[1,2,3,4],[5,6,7,8]],dtype=np.float16)\n",
        "two_d"
      ],
      "metadata": {
        "colab": {
          "base_uri": "https://localhost:8080/"
        },
        "id": "JsOkiuufkvz-",
        "outputId": "280ea466-79ed-4d97-a5b1-d870b72e822b"
      },
      "execution_count": 66,
      "outputs": [
        {
          "output_type": "execute_result",
          "data": {
            "text/plain": [
              "array([[1., 2., 3., 4.],\n",
              "       [5., 6., 7., 8.]], dtype=float16)"
            ]
          },
          "metadata": {},
          "execution_count": 66
        }
      ]
    },
    {
      "cell_type": "code",
      "source": [
        "#auto ndim set\n",
        "three_d=np.array([1,2,3,4],ndmin=3)\n",
        "three_d"
      ],
      "metadata": {
        "colab": {
          "base_uri": "https://localhost:8080/"
        },
        "id": "OzcNkqoVltpT",
        "outputId": "ba4a6df1-9223-46e2-9226-66432ce27b20"
      },
      "execution_count": 10,
      "outputs": [
        {
          "output_type": "execute_result",
          "data": {
            "text/plain": [
              "array([[[1, 2, 3, 4]]])"
            ]
          },
          "metadata": {},
          "execution_count": 10
        }
      ]
    },
    {
      "cell_type": "markdown",
      "source": [
        "# **Zero One Empty Fill Full Eye Diag**"
      ],
      "metadata": {
        "id": "WZAoz0-jsQbz"
      }
    },
    {
      "cell_type": "code",
      "source": [
        "#one_d_zero=np.zeros(shape=3)\n",
        "two_d_zero=np.zeros(shape=(3,3))\n",
        "two_d_zero\n"
      ],
      "metadata": {
        "colab": {
          "base_uri": "https://localhost:8080/"
        },
        "id": "D9lVH1r9mA0G",
        "outputId": "41441e32-d15f-4560-aa6d-e01113e9dd9a"
      },
      "execution_count": 16,
      "outputs": [
        {
          "output_type": "execute_result",
          "data": {
            "text/plain": [
              "array([[0., 0., 0.],\n",
              "       [0., 0., 0.],\n",
              "       [0., 0., 0.]])"
            ]
          },
          "metadata": {},
          "execution_count": 16
        }
      ]
    },
    {
      "cell_type": "code",
      "source": [
        "#one_d_ones=np.ones(shape=3)\n",
        "two_d_ones=np.ones(shape=(3,3))\n",
        "two_d_ones"
      ],
      "metadata": {
        "colab": {
          "base_uri": "https://localhost:8080/"
        },
        "id": "5MmPEYrJmPLe",
        "outputId": "b075c10c-48b8-47f9-d6e8-0e2ea0c9fccb"
      },
      "execution_count": 24,
      "outputs": [
        {
          "output_type": "execute_result",
          "data": {
            "text/plain": [
              "array([[1., 1., 1.],\n",
              "       [1., 1., 1.],\n",
              "       [1., 1., 1.]])"
            ]
          },
          "metadata": {},
          "execution_count": 24
        }
      ]
    },
    {
      "cell_type": "code",
      "source": [
        "#one_d_empty=np.empty(shape=3)\n",
        "two_d_empty=np.empty(shape=(3,3))\n",
        "two_d_empty"
      ],
      "metadata": {
        "colab": {
          "base_uri": "https://localhost:8080/"
        },
        "id": "G9dqDEa4mnDm",
        "outputId": "bd8214f3-b845-4bdc-80b4-c6eb524f70ba"
      },
      "execution_count": 20,
      "outputs": [
        {
          "output_type": "execute_result",
          "data": {
            "text/plain": [
              "array([[1., 1., 1.],\n",
              "       [1., 1., 1.],\n",
              "       [1., 1., 1.]])"
            ]
          },
          "metadata": {},
          "execution_count": 20
        }
      ]
    },
    {
      "cell_type": "code",
      "source": [
        "#one_d_full=np.full(shape=3,fill_value=5)\n",
        "two_d_full=np.full(shape=(3,3),fill_value=8,dtype=int)\n",
        "two_d_full"
      ],
      "metadata": {
        "colab": {
          "base_uri": "https://localhost:8080/"
        },
        "id": "n14j828XnOAz",
        "outputId": "d1387b9f-68d8-4aa9-99a9-820fde30b4e5"
      },
      "execution_count": 23,
      "outputs": [
        {
          "output_type": "execute_result",
          "data": {
            "text/plain": [
              "array([[8, 8, 8],\n",
              "       [8, 8, 8],\n",
              "       [8, 8, 8]])"
            ]
          },
          "metadata": {},
          "execution_count": 23
        }
      ]
    },
    {
      "cell_type": "code",
      "source": [
        "two_d_empty=np.empty(shape=(3,3))\n",
        "two_d_empty.fill(6.5)\n",
        "two_d_empty"
      ],
      "metadata": {
        "colab": {
          "base_uri": "https://localhost:8080/"
        },
        "id": "WM8tTIOwn1N_",
        "outputId": "aa6b21ee-77d5-4001-bea7-57503872954b"
      },
      "execution_count": 27,
      "outputs": [
        {
          "output_type": "execute_result",
          "data": {
            "text/plain": [
              "array([[6.5, 6.5, 6.5],\n",
              "       [6.5, 6.5, 6.5],\n",
              "       [6.5, 6.5, 6.5]])"
            ]
          },
          "metadata": {},
          "execution_count": 27
        }
      ]
    },
    {
      "cell_type": "code",
      "source": [
        "np.eye(N=3,dtype=int)"
      ],
      "metadata": {
        "colab": {
          "base_uri": "https://localhost:8080/"
        },
        "id": "VcIAvM9LoDbz",
        "outputId": "53fdd1ed-19d9-411f-b8dd-f307c53dcc99"
      },
      "execution_count": 28,
      "outputs": [
        {
          "output_type": "execute_result",
          "data": {
            "text/plain": [
              "array([[1, 0, 0],\n",
              "       [0, 1, 0],\n",
              "       [0, 0, 1]])"
            ]
          },
          "metadata": {},
          "execution_count": 28
        }
      ]
    },
    {
      "cell_type": "code",
      "source": [
        "np.diag([1,2,3])"
      ],
      "metadata": {
        "colab": {
          "base_uri": "https://localhost:8080/"
        },
        "id": "JRgCwm5goDQJ",
        "outputId": "d2264957-b104-411f-f88e-4b70556cba26"
      },
      "execution_count": 36,
      "outputs": [
        {
          "output_type": "execute_result",
          "data": {
            "text/plain": [
              "array([[1, 0, 0],\n",
              "       [0, 2, 0],\n",
              "       [0, 0, 3]])"
            ]
          },
          "metadata": {},
          "execution_count": 36
        }
      ]
    },
    {
      "cell_type": "markdown",
      "source": [
        "# **Random values**"
      ],
      "metadata": {
        "id": "WaNCNjUjr5F0"
      }
    },
    {
      "cell_type": "code",
      "source": [
        "#0 t0 1 (uniform distribution)\n",
        "np.random.rand(2,2)"
      ],
      "metadata": {
        "colab": {
          "base_uri": "https://localhost:8080/"
        },
        "id": "V5TXnCLDouvm",
        "outputId": "5d8aaf63-c07b-4572-8b19-bf42ffebf0cb"
      },
      "execution_count": 38,
      "outputs": [
        {
          "output_type": "execute_result",
          "data": {
            "text/plain": [
              "array([[0.25938257, 0.22447008],\n",
              "       [0.48780839, 0.69385142]])"
            ]
          },
          "metadata": {},
          "execution_count": 38
        }
      ]
    },
    {
      "cell_type": "code",
      "source": [
        "#mean of 0 and variance of 1\n",
        "np.random.randn(2,2)"
      ],
      "metadata": {
        "colab": {
          "base_uri": "https://localhost:8080/"
        },
        "id": "VUnyeLlhpLDZ",
        "outputId": "7ba1f2d2-8162-44b2-f164-9bf4819f5f28"
      },
      "execution_count": 37,
      "outputs": [
        {
          "output_type": "execute_result",
          "data": {
            "text/plain": [
              "array([[ 0.80287192, -0.7234417 ],\n",
              "       [ 1.87237716,  0.54127853]])"
            ]
          },
          "metadata": {},
          "execution_count": 37
        }
      ]
    },
    {
      "cell_type": "code",
      "source": [
        "#from starting point to (ending-1) point\n",
        "np.random.randint(2,10,size=(2,2))"
      ],
      "metadata": {
        "colab": {
          "base_uri": "https://localhost:8080/"
        },
        "id": "aF8fGSHApkLV",
        "outputId": "bf189673-9114-46b0-b3e8-ad7e8f83ee00"
      },
      "execution_count": 55,
      "outputs": [
        {
          "output_type": "execute_result",
          "data": {
            "text/plain": [
              "array([[7, 2],\n",
              "       [6, 7]])"
            ]
          },
          "metadata": {},
          "execution_count": 55
        }
      ]
    },
    {
      "cell_type": "markdown",
      "source": [
        "# **range of values**"
      ],
      "metadata": {
        "id": "9SK0QH22sHdv"
      }
    },
    {
      "cell_type": "code",
      "source": [
        "np.arange(start=2,stop=10,step=2)"
      ],
      "metadata": {
        "colab": {
          "base_uri": "https://localhost:8080/"
        },
        "id": "UmXKRas5qCZW",
        "outputId": "b90d0786-c3f8-48e6-90f3-b3047b1f8ede"
      },
      "execution_count": 57,
      "outputs": [
        {
          "output_type": "execute_result",
          "data": {
            "text/plain": [
              "array([2, 4, 6, 8])"
            ]
          },
          "metadata": {},
          "execution_count": 57
        }
      ]
    },
    {
      "cell_type": "code",
      "source": [
        "np.linspace(start=2,stop=10,num=5)"
      ],
      "metadata": {
        "colab": {
          "base_uri": "https://localhost:8080/"
        },
        "id": "h7NFf9lIqGfl",
        "outputId": "a423ea7f-c92b-4a68-d60c-16023741143f"
      },
      "execution_count": 58,
      "outputs": [
        {
          "output_type": "execute_result",
          "data": {
            "text/plain": [
              "array([ 2.,  4.,  6.,  8., 10.])"
            ]
          },
          "metadata": {},
          "execution_count": 58
        }
      ]
    },
    {
      "cell_type": "markdown",
      "source": [
        "# ***data type conversion***"
      ],
      "metadata": {
        "id": "m6gTNiRtrp5c"
      }
    },
    {
      "cell_type": "code",
      "source": [
        "float_type=np.array([[1,2,3,4],[5,6,7,8]],dtype=np.float64)\n",
        "int_type=float_type.astype(np.int32)\n",
        "int_type"
      ],
      "metadata": {
        "colab": {
          "base_uri": "https://localhost:8080/"
        },
        "id": "wlcs-s0ArAzz",
        "outputId": "79f00fff-507d-43b6-a9be-7552e8d46991"
      },
      "execution_count": 74,
      "outputs": [
        {
          "output_type": "execute_result",
          "data": {
            "text/plain": [
              "array([[1, 2, 3, 4],\n",
              "       [5, 6, 7, 8]], dtype=int32)"
            ]
          },
          "metadata": {},
          "execution_count": 74
        }
      ]
    }
  ]
}